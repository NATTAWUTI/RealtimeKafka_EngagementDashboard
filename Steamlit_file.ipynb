import pandas as pd
fron pinotdo import connect
Import plotly-express as px
from datetine import datetime
import time

• Connect to Pinot
conn - connect(host-'13.212.27.220%, port-8099, path-'/query/sql', scheme- 'http") |
# Query the date
curs - conn. cursor ()
query - ***
SELECT CATEGORY, COUNT(USERID) as PageViews
FROM Consolidate
GROUP BY CATEGORY
LIMIT 200
curs. execute (query)
f_sunary - pd.Datafrane(curs, coluans-[iten(®) for Iten in curs.desceiption)) |
* Sort the data by PageViews in descending order
af_sumary - df_sumary, sort_values(by-"PageViews", ascending-False)
& Plot the vertical bar chart
fig1 - px.bar(df_summary, x«"PageViews", y-"CATEGORY", title-"Page Views by Catego
fig1.update_traces(textposition-'outside')
fig1-update_ layout (
‚orientation
xaxis_title-"Total Views",
yaxis_title-None
11g1. show()
auto-True)